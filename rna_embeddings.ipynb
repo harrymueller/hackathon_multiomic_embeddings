{
 "cells": [
  {
   "cell_type": "code",
   "execution_count": 3,
   "metadata": {
    "vscode": {
     "languageId": "r"
    }
   },
   "outputs": [],
   "source": [
    "DIR=\"/vast/scratch/users/mueller.h/hackathon\"\n",
    "#source(\"/Users/harrisonm/data/WEHI/Conferences/OZSC_Hackathon/scripts/st_python/r/utils.R\")\n",
    "#source(\"/Users/harrisonm/data/WEHI/Conferences/OZSC_Hackathon/scripts/st_python/r/transfer.R\")\n",
    "OUTDIR = file.path(DIR, \"scripts/hackathon_multiomic_embeddings/results\")\n",
    "# Load libraries"
   ]
  },
  {
   "cell_type": "code",
   "execution_count": 4,
   "metadata": {
    "vscode": {
     "languageId": "r"
    }
   },
   "outputs": [],
   "source": [
    "library(Seurat)\n",
    "library(ggplot2)"
   ]
  },
  {
   "cell_type": "code",
   "execution_count": 5,
   "metadata": {
    "vscode": {
     "languageId": "r"
    }
   },
   "outputs": [],
   "source": [
    "atac <- readRDS(file.path(DIR, \"data\", \"qc\", \"Annotated_processed_unpaired_ATAC.RDS\"))\n",
    "rna <- readRDS(file.path(DIR, \"data\", \"qc\", \"processed_Annotated_unpaired_RNA.RDS\"))"
   ]
  },
  {
   "cell_type": "code",
   "execution_count": 6,
   "metadata": {
    "vscode": {
     "languageId": "r"
    }
   },
   "outputs": [
    {
     "name": "stderr",
     "output_type": "stream",
     "text": [
      "Loading required package: Signac\n",
      "\n"
     ]
    }
   ],
   "source": [
    "# add metadata\n",
    "rna@meta.data[\"modality\"] = \"rna\"\n",
    "rna$modality = \"rna\"\n",
    "\n",
    "atac@meta.data[\"modality\"] = \"atac\"\n",
    "atac$modality = \"atac\"\n",
    "\n",
    "DefaultAssay(atac) = \"RNA\""
   ]
  },
  {
   "cell_type": "code",
   "execution_count": 25,
   "metadata": {
    "vscode": {
     "languageId": "r"
    }
   },
   "outputs": [],
   "source": [
    "write.csv(rna@meta.data, file = file.path(OUTDIR, \"rna\", \"metadata.csv\"))\n",
    "write.csv(atac@meta.data, file = file.path(OUTDIR, \"atac\", \"metadata.csv\"))"
   ]
  },
  {
   "cell_type": "code",
   "execution_count": 37,
   "metadata": {
    "vscode": {
     "languageId": "r"
    }
   },
   "outputs": [],
   "source": [
    "#write.csv(GetAssayData(rna, slot = \"data\"), file = file.path(OUTDIR, \"rna\", \"cellgene.csv\"))\n",
    "#write.csv(GetAssayData(atac, slot = \"data\"), file = file.path(OUTDIR, \"atac\", \"cellgene.csv\"))"
   ]
  },
  {
   "cell_type": "markdown",
   "metadata": {},
   "source": [
    "## Run embeddings"
   ]
  },
  {
   "cell_type": "code",
   "execution_count": 7,
   "metadata": {
    "vscode": {
     "languageId": "r"
    }
   },
   "outputs": [
    {
     "name": "stderr",
     "output_type": "stream",
     "text": [
      "PC_ 1 \n",
      "Positive:  IL32, CD247, TRAC, CAMK4, LTB, IL7R, BACH2, LEF1, SYNE2, INPP4B \n",
      "\t   BCL2, TRBC2, THEMIS, RORA, ANK3, TXK, CD69, TRBC1, MLLT3, TMSB4X \n",
      "\t   RASGRF2, LINC01934, NELL2, TAFA1, ACTG1, PATJ, MAL, TMSB10, PCAT1, GZMM \n",
      "Negative:  PLXDC2, SLC8A1, FCN1, LRMDA, TYMP, JAK2, CYBB, MCTP1, DMXL2, NAMPT \n",
      "\t   ZEB2, IRAK3, TBXAS1, RBM47, GAB2, LYN, LYZ, TLR2, VCAN, HCK \n",
      "\t   LRRK2, MNDA, SAT1, LYST, CLEC7A, TNFAIP2, CSF3R, CD36, MARCH1, DENND1A \n",
      "PC_ 2 \n",
      "Positive:  NIBAN3, IGHM, BANK1, AFF3, MS4A1, PAX5, BLK, FCRL1, CD79A, LINC00926 \n",
      "\t   COBLL1, OSBPL10, EBF1, RALGPS2, CD22, BLNK, BCL11A, SPIB, ADAM28, AP002075.1 \n",
      "\t   COL19A1, IGHD, CD79B, RUBCNL, WDFY4, DENND5B, TCF4, IGKC, RHEX, HLA-DQA1 \n",
      "Negative:  IL32, CD247, TRAC, DPYD, IL7R, PDE3B, CAMK4, INPP4B, AOAH, THEMIS \n",
      "\t   ANXA1, NEAT1, LEF1, FNDC3B, RORA, SLCO3A1, TXK, TRBC2, S100A4, TRBC1 \n",
      "\t   CTSW, ARHGAP26, GZMM, SRGN, PLCB1, ADGRE5, NCALD, LINC01934, SAMD3, SYNE2 \n",
      "PC_ 3 \n",
      "Positive:  GZMB, CLEC4C, LILRA4, PTPRS, LINC00996, LINC01374, COL26A1, NKG7, CLIC3, DNASE1L3 \n",
      "\t   LINC01478, GNLY, CUX2, EPHB1, PRF1, PTGDS, SERPINF1, PLD4, SLC35F3, AC023590.1 \n",
      "\t   GZMA, CST7, COL24A1, SCN9A, FAM160A1, LRRC26, KLRD1, PHEX, AC007381.1, TNFRSF21 \n",
      "Negative:  BACH2, MS4A1, PAX5, LINC00926, BANK1, CD79A, FCRL1, EBF1, RALGPS2, OSBPL10 \n",
      "\t   COL19A1, CD22, AP002075.1, IGHD, ADAM28, IGHM, FCER2, CD79B, PLEKHG1, ARHGAP24 \n",
      "\t   FCRL2, LEF1, CDK14, VPREB3, LINC02397, BCL2, LARGE1, CSGALNACT1, PDE3B, AC120193.1 \n",
      "PC_ 4 \n",
      "Positive:  CLEC4C, PTPRS, CUX2, LILRA4, EPHB1, COL26A1, DNASE1L3, LINC01478, LINC01374, AC023590.1 \n",
      "\t   LINC00996, SLC35F3, COL24A1, SCN9A, SERPINF1, LRRC26, LEF1, PHEX, TNFRSF21, AC007381.1 \n",
      "\t   PLEKHD1, FAM160A1, ITM2C, NRP1, PDE3B, CAMK4, TPM2, DERL3, LAMP5, ZFAT \n",
      "Negative:  FCGR3A, NKG7, GNLY, PRF1, CST7, CX3CR1, KLRD1, GZMA, IFITM2, FGFBP2 \n",
      "\t   CCL5, CCL4, ADGRG1, GZMH, MTSS1, KLRF1, SPON2, RHOC, ABI3, PDGFD \n",
      "\t   ACTB, TGFBR3, HOPX, IFITM3, CTSW, TRDC, IL2RB, PFN1, FCRL6, XCL2 \n",
      "PC_ 5 \n",
      "Positive:  GNLY, NKG7, PRF1, PLCB1, KLRD1, CST7, MCTP2, CCL5, GZMA, FGFBP2 \n",
      "\t   CCL4, ADGRG1, ITGAM, ARHGAP24, KLRF1, SPON2, GZMH, PDGFD, TGFBR3, ARHGAP26 \n",
      "\t   VCAN, ZBTB16, GZMB, CTSW, C1orf21, TRDC, IL2RB, PTGDR, FNDC3B, XCL2 \n",
      "Negative:  CDKN1C, SMIM25, IFITM3, CSF1R, AIF1, LST1, HES4, LRRC25, MS4A7, CALHM6 \n",
      "\t   AC020651.2, CTSL, MAFB, CFD, SIGLEC10, TMSB10, GPBAR1, HMOX1, CST3, SERPINA1 \n",
      "\t   AC104809.2, COTL1, IFI30, TCF7L2, BATF3, SECTM1, FMNL2, NEURL1, HLA-DPA1, CEBPB \n",
      "\n",
      "Warning message:\n",
      "“The default method for RunUMAP has changed from calling Python UMAP via reticulate to the R-native UWOT using the cosine metric\n",
      "To use Python UMAP via reticulate, set umap.method to 'umap-learn' and metric to 'correlation'\n",
      "This message will be shown once per session”\n",
      "11:02:39 UMAP embedding parameters a = 0.9922 b = 1.112\n",
      "\n",
      "11:02:39 Read 2530 rows and found 20 numeric columns\n",
      "\n",
      "11:02:39 Using Annoy for neighbor search, n_neighbors = 30\n",
      "\n",
      "11:02:39 Building Annoy index with metric = cosine, n_trees = 50\n",
      "\n",
      "0%   10   20   30   40   50   60   70   80   90   100%\n",
      "\n",
      "[----|----|----|----|----|----|----|----|----|----|\n",
      "\n",
      "*\n",
      "*\n",
      "*\n",
      "*\n",
      "*\n",
      "*\n",
      "*\n",
      "*\n",
      "*\n",
      "*\n",
      "*\n",
      "*\n",
      "*\n",
      "*\n",
      "*\n",
      "*\n",
      "*\n",
      "*\n",
      "*\n",
      "*\n",
      "*\n",
      "*\n",
      "*\n",
      "*\n",
      "*\n",
      "*\n",
      "*\n",
      "*\n",
      "*\n",
      "*\n",
      "*\n",
      "*\n",
      "*\n",
      "*\n",
      "*\n",
      "*\n",
      "*\n",
      "*\n",
      "*\n",
      "*\n",
      "*\n",
      "*\n",
      "*\n",
      "*\n",
      "*\n",
      "*\n",
      "*\n",
      "*\n",
      "*\n",
      "*\n",
      "|\n",
      "\n",
      "11:02:39 Writing NN index file to temp file /tmp/RtmpRwXM1O/filea9a2d5fe45793\n",
      "\n",
      "11:02:39 Searching Annoy index using 1 thread, search_k = 3000\n",
      "\n",
      "11:02:39 Annoy recall = 100%\n",
      "\n",
      "11:02:40 Commencing smooth kNN distance calibration using 1 thread\n",
      " with target n_neighbors = 30\n",
      "\n",
      "11:02:41 Initializing from normalized Laplacian + noise (using RSpectra)\n",
      "\n",
      "11:02:41 Commencing optimization for 500 epochs, with 102888 positive edges\n",
      "\n",
      "11:02:41 Using rng type: pcg\n",
      "\n",
      "11:02:45 Optimization finished\n",
      "\n"
     ]
    }
   ],
   "source": [
    "rna <- RunPCA(rna, npcs = 20)\n",
    "rna <- RunUMAP(rna, dims = 1:20)\n",
    "rna <- RunTSNE(rna, dims = 1:20)"
   ]
  },
  {
   "cell_type": "code",
   "execution_count": 9,
   "metadata": {
    "vscode": {
     "languageId": "r"
    }
   },
   "outputs": [
    {
     "name": "stderr",
     "output_type": "stream",
     "text": [
      "Warning message:\n",
      "“\u001b[1m\u001b[22mThe `slot` argument of `SetAssayData()` is deprecated as of SeuratObject 5.0.0.\n",
      "\u001b[36mℹ\u001b[39m Please use the `layer` argument instead.\n",
      "\u001b[36mℹ\u001b[39m The deprecated feature was likely used in the \u001b[34mSeurat\u001b[39m package.\n",
      "  Please report the issue at \u001b[3m\u001b[34m<https://github.com/satijalab/seurat/issues>\u001b[39m\u001b[23m.”\n",
      "Centering and scaling data matrix\n",
      "\n",
      "PC_ 1 \n",
      "Positive:  BCL11B, ZNF831, SCML4, LEF1, KLF12, ITK, IKZF3, CD247, LBH, ABLIM1 \n",
      "\t   APBA2, SBK1, GATA3, CAMK4, SYNE2, RCAN3, FYN, PTCH1, CD96, BACH2 \n",
      "\t   RHOH, IGSF9B, LCK, SYTL2, CD6, RASGRF2, SPOCK2, MGAT4A, KIAA1671, NCK2 \n",
      "Negative:  PLXDC2, RAB31, FPR1, LYN, RIN2, AL121899.2, RBM47, ARHGEF10L, FGD4, FMNL2 \n",
      "\t   TREM1, GAS7, PPCDC, DAPK1, SULF2, BASP1, DMXL2, MS4A6E, SLC24A4, FAM49A \n",
      "\t   FLT1, EPB41L3, TNS3, CACNB4, FRY, LHFPL2, KLF4, HCK, ATP8B4, KCNIP1 \n",
      "PC_ 2 \n",
      "Positive:  BLK, CHL1, PAX5, PLEKHG1, KLHL14, NTNG1, UGT8, BACE2, CNR1, COL19A1 \n",
      "\t   PXDNL, EBF1, LAMC1, OSBPL10, ROR1, MYBL2, MS4A1, KCNH8, DENND5B, ST18 \n",
      "\t   COBLL1, ARHGAP42, MICAL3, SYBU, ESR2, CHST10, DCHS2, TMPRSS15, PRICKLE1, POU2AF1 \n",
      "Negative:  SLCO3A1, PPARG, SVIL, CLEC7A, DMXL2, KCNJ15, PLXDC2, TCF7L2, TREM1, FPR1 \n",
      "\t   AQP9, FFAR2, ARHGAP26, TMEM52B, MGAM, SPIDR, FNDC3B, NACC2, MAFB, STX11 \n",
      "\t   AL121899.2, DOCK5, PTGER2, GAS7, FCAR, FPR3, PLAUR, ANKRD55, SLC24A4, MARCO \n",
      "PC_ 3 \n",
      "Positive:  PLEKHG1, CNR1, BLK, BACE2, MS4A1, PAX5, FCRL1, UGT8, CCR6, TNFRSF13B \n",
      "\t   EBF1, ZNF608, MICAL3, COBLL1, PDLIM1, PNOC, CD22, MYBL2, SWAP70, PLCG2 \n",
      "\t   OSBPL10, TNFRSF13C, KLHL14, ADAM28, CHST10, ZNF532, ENTPD1, TCF4, AC020909.1, FAM81A \n",
      "Negative:  SPHKAP, GUCY1A2, HCN1, FBXL7, CFAP47, GULP1, KCNH7, AC011604.2, AGMO, BCL11B \n",
      "\t   ADAMTS19, TACR3, MMP16, KLHL1, GABRA3, PCSK5, PCLO, BRINP3, TNIK, CAMK4 \n",
      "\t   PIK3C2G, KCNH5, CNTNAP4, THEMIS, ACTN1, NDST4, SEMA3E, CNTN3, PLCXD3, PRKCQ \n",
      "PC_ 4 \n",
      "Positive:  SNX9, TIAM1, ACTN1, LEF1, SLC16A10, BACH2, ANKRD55, CARMIL1, SLC22A23, CACHD1 \n",
      "\t   AC004805.1, ISM1, SARDH, CACNA1E, PCBP3, AXIN2, EDAR, SATB1, RASGRF2, WNT7A \n",
      "\t   KRT73, BTBD11, PCSK5, SNED1, MAML3, AC022414.1, SDK2, IL7R, KCNN3, CACNA1I \n",
      "Negative:  EFNA5, KLRD1, GZMB, CCL18, JAKMIP1, C4orf50, NCALD, KRT74, ZEB2, CST7 \n",
      "\t   C1orf21, TTC38, MCTP2, TMEM132C, DLG5, S1PR5, FSIP1, SLC15A4, CX3CR1, CADM1 \n",
      "\t   SLC1A7, METRNL, ME3, B3GAT1, LGR6, PRR5L, SETBP1, B4GALT5, PRF1, GLIS1 \n",
      "PC_ 5 \n",
      "Positive:  MAD1L1, AC069288.1, PALD1, ME3, APBA2, TANC1, ATP10A, MEIS1, ITGA9, COL26A1 \n",
      "\t   LRRC38, SCARA5, SMOC1, ITGB5, FBLN2, CLNK, MAN1C1, MSI2, CCDC33, COL13A1 \n",
      "\t   DYNC1I1, PRDM16, MAML3, AC022414.1, PDZRN3, KCNK10, LIPC, LRFN2, HSPG2, VPS13D \n",
      "Negative:  CHL1, GUCY1A2, BRINP3, PXDNL, CFAP47, PLD5, CNTN6, ADAMTS19, KCNK2, PLCXD3 \n",
      "\t   HCN1, TRDN, SPHKAP, CNTNAP4, ADGRL4, UGT8, GABRA3, KCNH7, AC011604.2, TNNI3K \n",
      "\t   TUSC3, TACR3, ADAM18, GULP1, EPHA3, CNTN1, MEI4, FBXL7, CNR1, SLC26A7 \n",
      "\n",
      "11:03:01 UMAP embedding parameters a = 0.9922 b = 1.112\n",
      "\n",
      "11:03:01 Read 2563 rows and found 20 numeric columns\n",
      "\n",
      "11:03:01 Using Annoy for neighbor search, n_neighbors = 30\n",
      "\n",
      "11:03:01 Building Annoy index with metric = cosine, n_trees = 50\n",
      "\n",
      "0%   10   20   30   40   50   60   70   80   90   100%\n",
      "\n",
      "[----|----|----|----|----|----|----|----|----|----|\n",
      "\n",
      "*\n",
      "*\n",
      "*\n",
      "*\n",
      "*\n",
      "*\n",
      "*\n",
      "*\n",
      "*\n",
      "*\n",
      "*\n",
      "*\n",
      "*\n",
      "*\n",
      "*\n",
      "*\n",
      "*\n",
      "*\n",
      "*\n",
      "*\n",
      "*\n",
      "*\n",
      "*\n",
      "*\n",
      "*\n",
      "*\n",
      "*\n",
      "*\n",
      "*\n",
      "*\n",
      "*\n",
      "*\n",
      "*\n",
      "*\n",
      "*\n",
      "*\n",
      "*\n",
      "*\n",
      "*\n",
      "*\n",
      "*\n",
      "*\n",
      "*\n",
      "*\n",
      "*\n",
      "*\n",
      "*\n",
      "*\n",
      "*\n",
      "*\n",
      "|\n",
      "\n",
      "11:03:02 Writing NN index file to temp file /tmp/RtmpRwXM1O/filea9a2da7068c3\n",
      "\n",
      "11:03:02 Searching Annoy index using 1 thread, search_k = 3000\n",
      "\n",
      "11:03:02 Annoy recall = 100%\n",
      "\n",
      "11:03:03 Commencing smooth kNN distance calibration using 1 thread\n",
      " with target n_neighbors = 30\n",
      "\n",
      "11:03:04 Initializing from normalized Laplacian + noise (using RSpectra)\n",
      "\n",
      "11:03:04 Commencing optimization for 500 epochs, with 109316 positive edges\n",
      "\n",
      "11:03:04 Using rng type: pcg\n",
      "\n",
      "11:03:08 Optimization finished\n",
      "\n"
     ]
    }
   ],
   "source": [
    "atac <- FindVariableFeatures(atac)\n",
    "atac <- ScaleData(atac)\n",
    "atac <- RunPCA(atac, npcs = 20)\n",
    "atac <- RunUMAP(atac, dims = 1:20)\n",
    "atac <- RunTSNE(atac, dims = 1:20)"
   ]
  },
  {
   "cell_type": "code",
   "execution_count": 10,
   "metadata": {
    "vscode": {
     "languageId": "r"
    }
   },
   "outputs": [],
   "source": [
    "write.csv(Embeddings(rna, \"pca\"), file = file.path(OUTDIR, \"rna\", paste0(\"pca.csv\")))\n",
    "write.csv(Embeddings(rna, \"umap\"), file = file.path(OUTDIR, \"rna\", paste0(\"pca_umap.csv\")))\n",
    "write.csv(Embeddings(rna, \"tsne\"), file = file.path(OUTDIR, \"rna\", paste0(\"pca_tsne.csv\")))"
   ]
  },
  {
   "cell_type": "code",
   "execution_count": 11,
   "metadata": {
    "vscode": {
     "languageId": "r"
    }
   },
   "outputs": [],
   "source": [
    "write.csv(Embeddings(atac, \"pca\"), file = file.path(OUTDIR, \"atac\", paste0(\"pca.csv\")))\n",
    "write.csv(Embeddings(atac, \"umap\"), file = file.path(OUTDIR, \"atac\", paste0(\"pca_umap.csv\")))\n",
    "write.csv(Embeddings(atac, \"tsne\"), file = file.path(OUTDIR, \"atac\", paste0(\"pca_tsne.csv\")))"
   ]
  },
  {
   "cell_type": "markdown",
   "metadata": {
    "vscode": {
     "languageId": "r"
    }
   },
   "source": [
    "## Other Embeddings"
   ]
  },
  {
   "cell_type": "code",
   "execution_count": null,
   "metadata": {
    "vscode": {
     "languageId": "r"
    }
   },
   "outputs": [],
   "source": []
  },
  {
   "cell_type": "code",
   "execution_count": null,
   "metadata": {
    "vscode": {
     "languageId": "r"
    }
   },
   "outputs": [],
   "source": []
  },
  {
   "cell_type": "code",
   "execution_count": null,
   "metadata": {
    "vscode": {
     "languageId": "r"
    }
   },
   "outputs": [],
   "source": []
  },
  {
   "cell_type": "code",
   "execution_count": null,
   "metadata": {
    "vscode": {
     "languageId": "r"
    }
   },
   "outputs": [],
   "source": []
  }
 ],
 "metadata": {
  "kernelspec": {
   "display_name": "R (hackathon_r)",
   "language": "R",
   "name": "hackathon_r"
  },
  "language_info": {
   "codemirror_mode": "r",
   "file_extension": ".r",
   "mimetype": "text/x-r-source",
   "name": "R",
   "pygments_lexer": "r",
   "version": "4.4.3"
  }
 },
 "nbformat": 4,
 "nbformat_minor": 2
}
