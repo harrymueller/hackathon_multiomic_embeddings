{
 "cells": [
  {
   "cell_type": "code",
   "execution_count": 20,
   "metadata": {
    "vscode": {
     "languageId": "r"
    }
   },
   "outputs": [],
   "source": [
    "DIR=\"/vast/scratch/users/mueller.h/hackathon\"\n",
    "#source(\"/Users/harrisonm/data/WEHI/Conferences/OZSC_Hackathon/scripts/st_python/r/utils.R\")\n",
    "#source(\"/Users/harrisonm/data/WEHI/Conferences/OZSC_Hackathon/scripts/st_python/r/transfer.R\")\n",
    "OUTDIR = file.path(DIR, \"scripts/hackathon_multiomic_embeddings/results\")\n",
    "# Load libraries"
   ]
  },
  {
   "cell_type": "code",
   "execution_count": 2,
   "metadata": {
    "vscode": {
     "languageId": "r"
    }
   },
   "outputs": [
    {
     "name": "stderr",
     "output_type": "stream",
     "text": [
      "Loading required package: SeuratObject\n",
      "\n",
      "Loading required package: sp\n",
      "\n"
     ]
    },
    {
     "name": "stderr",
     "output_type": "stream",
     "text": [
      "\n",
      "Attaching package: ‘SeuratObject’\n",
      "\n",
      "\n",
      "The following objects are masked from ‘package:base’:\n",
      "\n",
      "    intersect, t\n",
      "\n",
      "\n"
     ]
    }
   ],
   "source": [
    "library(Seurat)\n",
    "library(ggplot2)"
   ]
  },
  {
   "cell_type": "code",
   "execution_count": 4,
   "metadata": {
    "vscode": {
     "languageId": "r"
    }
   },
   "outputs": [],
   "source": [
    "atac <- readRDS(file.path(DIR, \"data\", \"qc\", \"Annotated_processed_unpaired_ATAC.RDS\"))\n",
    "rna <- readRDS(file.path(DIR, \"data\", \"qc\", \"processed_Annotated_unpaired_RNA.RDS\"))"
   ]
  },
  {
   "cell_type": "code",
   "execution_count": 7,
   "metadata": {
    "vscode": {
     "languageId": "r"
    }
   },
   "outputs": [],
   "source": [
    "# add metadata\n",
    "rna@meta.data[\"modality\"] = \"rna\"\n",
    "rna$modality = \"rna\"\n",
    "\n",
    "atac@meta.data[\"modality\"] = \"atac\"\n",
    "atac$modality = \"atac\"\n",
    "\n",
    "DefaultAssay(atac) = \"RNA\""
   ]
  },
  {
   "cell_type": "code",
   "execution_count": 25,
   "metadata": {
    "vscode": {
     "languageId": "r"
    }
   },
   "outputs": [],
   "source": [
    "write.csv(rna@meta.data, file = file.path(OUTDIR, \"rna\", \"metadata.csv\"))\n",
    "write.csv(atac@meta.data, file = file.path(OUTDIR, \"atac\", \"metadata.csv\"))"
   ]
  },
  {
   "cell_type": "code",
   "execution_count": 37,
   "metadata": {
    "vscode": {
     "languageId": "r"
    }
   },
   "outputs": [],
   "source": [
    "write.csv(GetAssayData(rna, slot = \"data\"), file = file.path(OUTDIR, \"rna\", \"cellgene.csv\"))\n",
    "write.csv(GetAssayData(atac, slot = \"data\"), file = file.path(OUTDIR, \"atac\", \"cellgene.csv\"))"
   ]
  },
  {
   "cell_type": "markdown",
   "metadata": {},
   "source": [
    "## Run embeddings"
   ]
  },
  {
   "cell_type": "code",
   "execution_count": 14,
   "metadata": {
    "vscode": {
     "languageId": "r"
    }
   },
   "outputs": [
    {
     "name": "stderr",
     "output_type": "stream",
     "text": [
      "PC_ 1 \n",
      "Positive:  IL32, CD247, TRAC, CAMK4, LTB, IL7R, BACH2, LEF1, SYNE2, INPP4B \n",
      "\t   BCL2, TRBC2, THEMIS, RORA, ANK3, TXK, CD69, TRBC1, MLLT3, TMSB4X \n",
      "\t   RASGRF2, LINC01934, NELL2, TAFA1, ACTG1, PATJ, MAL, TMSB10, PCAT1, GZMM \n",
      "Negative:  PLXDC2, SLC8A1, FCN1, LRMDA, TYMP, JAK2, CYBB, MCTP1, DMXL2, NAMPT \n",
      "\t   ZEB2, IRAK3, TBXAS1, RBM47, GAB2, LYN, LYZ, TLR2, VCAN, HCK \n",
      "\t   LRRK2, MNDA, SAT1, LYST, CLEC7A, TNFAIP2, CSF3R, CD36, MARCH1, DENND1A \n",
      "PC_ 2 \n",
      "Positive:  NIBAN3, IGHM, BANK1, AFF3, MS4A1, PAX5, BLK, FCRL1, CD79A, LINC00926 \n",
      "\t   COBLL1, OSBPL10, EBF1, RALGPS2, CD22, BLNK, BCL11A, SPIB, ADAM28, AP002075.1 \n",
      "\t   COL19A1, IGHD, CD79B, RUBCNL, WDFY4, DENND5B, TCF4, IGKC, RHEX, HLA-DQA1 \n",
      "Negative:  IL32, CD247, TRAC, DPYD, IL7R, PDE3B, CAMK4, INPP4B, AOAH, THEMIS \n",
      "\t   ANXA1, NEAT1, LEF1, FNDC3B, RORA, SLCO3A1, TXK, TRBC2, S100A4, TRBC1 \n",
      "\t   CTSW, ARHGAP26, GZMM, SRGN, PLCB1, ADGRE5, NCALD, LINC01934, SAMD3, SYNE2 \n",
      "PC_ 3 \n",
      "Positive:  GZMB, CLEC4C, LILRA4, PTPRS, LINC00996, LINC01374, COL26A1, NKG7, CLIC3, DNASE1L3 \n",
      "\t   LINC01478, GNLY, CUX2, EPHB1, PRF1, PTGDS, SERPINF1, PLD4, SLC35F3, AC023590.1 \n",
      "\t   GZMA, CST7, COL24A1, SCN9A, FAM160A1, LRRC26, KLRD1, PHEX, AC007381.1, TNFRSF21 \n",
      "Negative:  BACH2, MS4A1, PAX5, LINC00926, BANK1, CD79A, FCRL1, EBF1, RALGPS2, OSBPL10 \n",
      "\t   COL19A1, CD22, AP002075.1, IGHD, ADAM28, IGHM, FCER2, CD79B, PLEKHG1, ARHGAP24 \n",
      "\t   FCRL2, LEF1, CDK14, VPREB3, LINC02397, BCL2, LARGE1, CSGALNACT1, PDE3B, AC120193.1 \n",
      "PC_ 4 \n",
      "Positive:  CLEC4C, PTPRS, CUX2, LILRA4, EPHB1, COL26A1, DNASE1L3, LINC01478, LINC01374, AC023590.1 \n",
      "\t   LINC00996, SLC35F3, COL24A1, SCN9A, SERPINF1, LRRC26, LEF1, PHEX, TNFRSF21, AC007381.1 \n",
      "\t   PLEKHD1, FAM160A1, ITM2C, NRP1, PDE3B, CAMK4, TPM2, DERL3, LAMP5, ZFAT \n",
      "Negative:  FCGR3A, NKG7, GNLY, PRF1, CST7, CX3CR1, KLRD1, GZMA, IFITM2, FGFBP2 \n",
      "\t   CCL5, CCL4, ADGRG1, GZMH, MTSS1, KLRF1, SPON2, RHOC, ABI3, PDGFD \n",
      "\t   ACTB, TGFBR3, HOPX, IFITM3, CTSW, TRDC, IL2RB, PFN1, FCRL6, XCL2 \n",
      "PC_ 5 \n",
      "Positive:  GNLY, NKG7, PRF1, PLCB1, KLRD1, CST7, MCTP2, CCL5, GZMA, FGFBP2 \n",
      "\t   CCL4, ADGRG1, ITGAM, ARHGAP24, KLRF1, SPON2, GZMH, PDGFD, TGFBR3, ARHGAP26 \n",
      "\t   VCAN, ZBTB16, GZMB, CTSW, C1orf21, TRDC, IL2RB, PTGDR, FNDC3B, XCL2 \n",
      "Negative:  CDKN1C, SMIM25, IFITM3, CSF1R, AIF1, LST1, HES4, LRRC25, MS4A7, CALHM6 \n",
      "\t   AC020651.2, CTSL, MAFB, CFD, SIGLEC10, TMSB10, GPBAR1, HMOX1, CST3, SERPINA1 \n",
      "\t   AC104809.2, COTL1, IFI30, TCF7L2, BATF3, SECTM1, FMNL2, NEURL1, HLA-DPA1, CEBPB \n",
      "\n",
      "Warning message:\n",
      "“Number of dimensions changing from 50 to 20”\n",
      "Warning message:\n",
      "“The default method for RunUMAP has changed from calling Python UMAP via reticulate to the R-native UWOT using the cosine metric\n",
      "To use Python UMAP via reticulate, set umap.method to 'umap-learn' and metric to 'correlation'\n",
      "This message will be shown once per session”\n",
      "10:29:11 UMAP embedding parameters a = 0.9922 b = 1.112\n",
      "\n",
      "10:29:11 Read 2530 rows and found 20 numeric columns\n",
      "\n",
      "10:29:11 Using Annoy for neighbor search, n_neighbors = 30\n",
      "\n",
      "10:29:11 Building Annoy index with metric = cosine, n_trees = 50\n",
      "\n",
      "0%   10   20   30   40   50   60   70   80   90   100%\n",
      "\n",
      "[----|----|----|----|----|----|----|----|----|----|\n",
      "\n",
      "*\n",
      "*\n",
      "*\n",
      "*\n",
      "*\n",
      "*\n",
      "*\n",
      "*\n",
      "*\n",
      "*\n",
      "*\n",
      "*\n",
      "*\n",
      "*\n",
      "*\n",
      "*\n",
      "*\n",
      "*\n",
      "*\n",
      "*\n",
      "*\n",
      "*\n",
      "*\n",
      "*\n",
      "*\n",
      "*\n",
      "*\n",
      "*\n",
      "*\n",
      "*\n",
      "*\n",
      "*\n",
      "*\n",
      "*\n",
      "*\n",
      "*\n",
      "*\n",
      "*\n",
      "*\n",
      "*\n",
      "*\n",
      "*\n",
      "*\n",
      "*\n",
      "*\n",
      "*\n",
      "*\n",
      "*\n",
      "*\n",
      "*\n",
      "|\n",
      "\n",
      "10:29:12 Writing NN index file to temp file /tmp/RtmpXjkFIn/filea939e22b47bf0\n",
      "\n",
      "10:29:12 Searching Annoy index using 1 thread, search_k = 3000\n",
      "\n",
      "10:29:12 Annoy recall = 100%\n",
      "\n",
      "10:29:13 Commencing smooth kNN distance calibration using 1 thread\n",
      " with target n_neighbors = 30\n",
      "\n",
      "10:29:14 Initializing from normalized Laplacian + noise (using RSpectra)\n",
      "\n",
      "10:29:14 Commencing optimization for 500 epochs, with 102888 positive edges\n",
      "\n",
      "10:29:14 Using rng type: pcg\n",
      "\n",
      "10:29:18 Optimization finished\n",
      "\n"
     ]
    }
   ],
   "source": [
    "rna <- RunPCA(rna, npcs = 20)\n",
    "rna <- RunUMAP(rna, dims = 1:20)\n",
    "rna <- RunTSNE(rna, dims = 1:20)"
   ]
  },
  {
   "cell_type": "code",
   "execution_count": 38,
   "metadata": {
    "vscode": {
     "languageId": "r"
    }
   },
   "outputs": [
    {
     "ename": "ERROR",
     "evalue": "Error in PrepDR(object = object, features = features, verbose = verbose): Data has not been scaled. Please run ScaleData and retry\n",
     "output_type": "error",
     "traceback": [
      "Error in PrepDR(object = object, features = features, verbose = verbose): Data has not been scaled. Please run ScaleData and retry\nTraceback:\n",
      "1. RunPCA.Seurat(atac, npcs = 20)",
      "2. RunPCA(object = object[[assay]], assay = assay, features = features, \n .     npcs = npcs, rev.pca = rev.pca, weight.by.var = weight.by.var, \n .     verbose = verbose, ndims.print = ndims.print, nfeatures.print = nfeatures.print, \n .     reduction.key = reduction.key, seed.use = seed.use, ...)",
      "3. RunPCA.Assay(object = object[[assay]], assay = assay, features = features, \n .     npcs = npcs, rev.pca = rev.pca, weight.by.var = weight.by.var, \n .     verbose = verbose, ndims.print = ndims.print, nfeatures.print = nfeatures.print, \n .     reduction.key = reduction.key, seed.use = seed.use, ...)",
      "4. PrepDR(object = object, features = features, verbose = verbose)",
      "5. stop(\"Data has not been scaled. Please run ScaleData and retry\")",
      "6. .handleSimpleError(function (cnd) \n . {\n .     watcher$capture_plot_and_output()\n .     cnd <- sanitize_call(cnd)\n .     watcher$push(cnd)\n .     switch(on_error, continue = invokeRestart(\"eval_continue\"), \n .         stop = invokeRestart(\"eval_stop\"), error = NULL)\n . }, \"Data has not been scaled. Please run ScaleData and retry\", \n .     base::quote(PrepDR(object = object, features = features, \n .         verbose = verbose)))"
     ]
    }
   ],
   "source": [
    "atac <- FindVariableFeatures(atac)\n",
    "atac <- RunPCA(atac, npcs = 20)\n",
    "atac <- RunUMAP(atac, dims = 1:20)\n",
    "atac <- RunTSNE(atac, dims = 1:20)"
   ]
  },
  {
   "cell_type": "code",
   "execution_count": 22,
   "metadata": {
    "vscode": {
     "languageId": "r"
    }
   },
   "outputs": [],
   "source": [
    "write.csv(Embeddings(rna, \"pca\"), file = file.path(OUTDIR, \"rna\", paste0(\"pca.csv\")))\n",
    "write.csv(Embeddings(rna, \"umap\"), file = file.path(OUTDIR, \"rna\", paste0(\"pca_umap.csv\")))\n",
    "write.csv(Embeddings(rna, \"tsne\"), file = file.path(OUTDIR, \"rna\", paste0(\"pca_tsne.csv\")))"
   ]
  },
  {
   "cell_type": "markdown",
   "metadata": {
    "vscode": {
     "languageId": "r"
    }
   },
   "source": [
    "## Export"
   ]
  },
  {
   "cell_type": "code",
   "execution_count": null,
   "metadata": {
    "vscode": {
     "languageId": "r"
    }
   },
   "outputs": [],
   "source": []
  },
  {
   "cell_type": "code",
   "execution_count": null,
   "metadata": {
    "vscode": {
     "languageId": "r"
    }
   },
   "outputs": [],
   "source": []
  },
  {
   "cell_type": "code",
   "execution_count": null,
   "metadata": {
    "vscode": {
     "languageId": "r"
    }
   },
   "outputs": [],
   "source": []
  },
  {
   "cell_type": "code",
   "execution_count": null,
   "metadata": {
    "vscode": {
     "languageId": "r"
    }
   },
   "outputs": [],
   "source": []
  }
 ],
 "metadata": {
  "kernelspec": {
   "display_name": "R (hackathon_r)",
   "language": "R",
   "name": "hackathon_r"
  },
  "language_info": {
   "codemirror_mode": "r",
   "file_extension": ".r",
   "mimetype": "text/x-r-source",
   "name": "R",
   "pygments_lexer": "r",
   "version": "4.4.3"
  }
 },
 "nbformat": 4,
 "nbformat_minor": 2
}
